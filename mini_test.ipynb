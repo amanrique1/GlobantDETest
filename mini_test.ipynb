{
 "cells": [
  {
   "cell_type": "code",
   "execution_count": 21,
   "metadata": {},
   "outputs": [],
   "source": [
    "import requests"
   ]
  },
  {
   "cell_type": "code",
   "execution_count": 22,
   "metadata": {},
   "outputs": [],
   "source": [
    "def upload_file(url, file_path, file_key='file'):\n",
    "  \"\"\"\n",
    "  Uploads a file to the specified URL using the requests library.\n",
    "\n",
    "  Args:\n",
    "    url: The URL of the API endpoint.\n",
    "    file_path: The path to the file to be uploaded.\n",
    "    file_key: The name of the file field in the API request (default: 'file').\n",
    "\n",
    "  Returns:\n",
    "    The response object from the API request.\n",
    "  \"\"\"\n",
    "\n",
    "  try:\n",
    "    with open(file_path, 'rb') as file:\n",
    "      files = {file_key: file}\n",
    "      response = requests.post(url, files=files)\n",
    "      response.raise_for_status()  # Raise an exception for bad status codes\n",
    "      return response\n",
    "  except Exception as e:\n",
    "    print(f'An error occurred: {e}')\n",
    "    return None"
   ]
  },
  {
   "cell_type": "code",
   "execution_count": 23,
   "metadata": {},
   "outputs": [],
   "source": [
    "host = \"\" # Replace with the host's ip"
   ]
  },
  {
   "cell_type": "code",
   "execution_count": null,
   "metadata": {},
   "outputs": [],
   "source": [
    "# Example usage:\n",
    "url = f'http://{host}:8000/departments/upload'\n",
    "file_path = 'assets/departments.csv'  # Replace with the file path\n",
    "\n",
    "response = upload_file(url, file_path)\n",
    "\n",
    "if response:\n",
    "    print(f\"File uploaded successfully. Response status code: {response.status_code}\")"
   ]
  },
  {
   "cell_type": "code",
   "execution_count": null,
   "metadata": {},
   "outputs": [],
   "source": [
    "# Example usage:\n",
    "url = f'http://{host}:8000/jobs/upload'\n",
    "file_path = 'assets/jobs.csv'  # Replace with the file path\n",
    "\n",
    "response = upload_file(url, file_path)\n",
    "\n",
    "if response:\n",
    "    print(f\"File uploaded successfully. Response status code: {response.status_code}\")"
   ]
  },
  {
   "cell_type": "code",
   "execution_count": null,
   "metadata": {},
   "outputs": [],
   "source": [
    "# Example usage:\n",
    "url = f'http://{host}:8000/employees/upload'\n",
    "file_path = 'assets/hired_employees.csv'  # Replace with the file path\n",
    "\n",
    "response = upload_file(url, file_path)\n",
    "\n",
    "if response:\n",
    "    print(f\"File uploaded successfully. Response status code: {response.status_code}\")"
   ]
  },
  {
   "cell_type": "code",
   "execution_count": null,
   "metadata": {},
   "outputs": [],
   "source": [
    "url = f'http://{host}:8000/departments/quarter_hires'\n",
    "response = requests.get(url)\n",
    "print(response.text)"
   ]
  },
  {
   "cell_type": "code",
   "execution_count": null,
   "metadata": {},
   "outputs": [],
   "source": [
    "url = f'http://{host}:8000/departments/hires_over_avg'\n",
    "response = requests.get(url)\n",
    "print(response.text)"
   ]
  }
 ],
 "metadata": {
  "kernelspec": {
   "display_name": "Python 3",
   "language": "python",
   "name": "python3"
  },
  "language_info": {
   "codemirror_mode": {
    "name": "ipython",
    "version": 3
   },
   "file_extension": ".py",
   "mimetype": "text/x-python",
   "name": "python",
   "nbconvert_exporter": "python",
   "pygments_lexer": "ipython3",
   "version": "3.9.6"
  }
 },
 "nbformat": 4,
 "nbformat_minor": 2
}
